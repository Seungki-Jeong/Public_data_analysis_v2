{
 "cells": [
  {
   "cell_type": "code",
   "execution_count": 1,
   "metadata": {},
   "outputs": [
    {
     "name": "stdout",
     "output_type": "stream",
     "text": [
      "['C:\\\\Users\\\\fex53\\\\.conda\\\\envs\\\\pt\\\\python36.zip', 'C:\\\\Users\\\\fex53\\\\.conda\\\\envs\\\\pt\\\\DLLs', 'C:\\\\Users\\\\fex53\\\\.conda\\\\envs\\\\pt\\\\lib', 'C:\\\\Users\\\\fex53\\\\.conda\\\\envs\\\\pt', '', 'C:\\\\Users\\\\fex53\\\\.conda\\\\envs\\\\pt\\\\lib\\\\site-packages', 'C:\\\\Users\\\\fex53\\\\.conda\\\\envs\\\\pt\\\\lib\\\\site-packages\\\\win32', 'C:\\\\Users\\\\fex53\\\\.conda\\\\envs\\\\pt\\\\lib\\\\site-packages\\\\win32\\\\lib', 'C:\\\\Users\\\\fex53\\\\.conda\\\\envs\\\\pt\\\\lib\\\\site-packages\\\\Pythonwin', 'C:\\\\Users\\\\fex53\\\\.conda\\\\envs\\\\pt\\\\lib\\\\site-packages\\\\IPython\\\\extensions', 'C:\\\\Users\\\\fex53\\\\.ipython', 'D:\\\\workspace\\\\Public_data_analysis_v2\\\\Public_data_analysis_v2\\\\src\\\\module']\n"
     ]
    }
   ],
   "source": [
    "import sys\n",
    "sys.path.append('D:\\workspace\\Public_data_analysis_v2\\Public_data_analysis_v2\\src\\module')\n",
    "import Crawling as cr\n",
    "\n",
    "print(sys.path)\n",
    "# cr.kh()"
   ]
  },
  {
   "cell_type": "code",
   "execution_count": 3,
   "metadata": {},
   "outputs": [],
   "source": []
  },
  {
   "cell_type": "code",
   "execution_count": 2,
   "metadata": {},
   "outputs": [
    {
     "name": "stderr",
     "output_type": "stream",
     "text": [
      "100%|██████████████████████████████████████████████████████████████████████████████████| 10/10 [00:00<00:00, 15.31it/s]\n"
     ]
    }
   ],
   "source": [
    "cr.kh()"
   ]
  },
  {
   "cell_type": "code",
   "execution_count": 4,
   "metadata": {},
   "outputs": [
    {
     "data": {
      "text/plain": [
       "198"
      ]
     },
     "execution_count": 4,
     "metadata": {},
     "output_type": "execute_result"
    }
   ],
   "source": [
    "len(cr.kh_word)"
   ]
  },
  {
   "cell_type": "code",
   "execution_count": null,
   "metadata": {},
   "outputs": [],
   "source": []
  }
 ],
 "metadata": {
  "kernelspec": {
   "display_name": "Python 3",
   "language": "python",
   "name": "python3"
  },
  "language_info": {
   "codemirror_mode": {
    "name": "ipython",
    "version": 3
   },
   "file_extension": ".py",
   "mimetype": "text/x-python",
   "name": "python",
   "nbconvert_exporter": "python",
   "pygments_lexer": "ipython3",
   "version": "3.6.12"
  }
 },
 "nbformat": 4,
 "nbformat_minor": 4
}
