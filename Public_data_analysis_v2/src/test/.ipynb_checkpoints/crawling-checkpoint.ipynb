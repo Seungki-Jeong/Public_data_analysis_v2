{
 "cells": [
  {
   "cell_type": "code",
   "execution_count": 77,
   "metadata": {},
   "outputs": [],
   "source": [
    "from selenium import webdriver\n",
    "import requests\n",
    "from bs4 import BeautifulSoup\n",
    "from tqdm import tqdm"
   ]
  },
  {
   "cell_type": "markdown",
   "metadata": {},
   "source": [
    "## 경향신문 크롤링"
   ]
  },
  {
   "cell_type": "code",
   "execution_count": 57,
   "metadata": {},
   "outputs": [
    {
     "data": {
      "application/vnd.jupyter.widget-view+json": {
       "model_id": "b2d242e7f8b14d539d8b6e53dfda35b7",
       "version_major": 2,
       "version_minor": 0
      },
      "text/plain": [
       "HBox(children=(FloatProgress(value=0.0, max=10.0), HTML(value='')))"
      ]
     },
     "metadata": {},
     "output_type": "display_data"
    },
    {
     "name": "stdout",
     "output_type": "stream",
     "text": [
      "\n"
     ]
    }
   ],
   "source": [
    "# 경향신문 '천안문 검색 결과' URL\n",
    "url = 'http://search.khan.co.kr/search.html?stb=khan&q=%EC%B2%9C%EC%95%88%EB%AC%B8&pg={}&sort=1'\n",
    "\n",
    "# 가져올 텍스트 공간 초기화\n",
    "kh_word = []\n",
    "\n",
    "# 경향신문 1~10페이지까지 크롤링 (최대 10페이지까지 존재)\n",
    "for count in tqdm(range(1,11)):\n",
    "    \n",
    "#     1~10페이지까지 html을 가져옴\n",
    "    response = requests.get(url.format(count))\n",
    "    html = response.text\n",
    "    soup = BeautifulSoup(html, 'html.parser')\n",
    "\n",
    "#     title 부분\n",
    "    titles = soup.select('.phArtc > dt > a')\n",
    "#     소제목 부분\n",
    "    words = soup.select('.phArtc > .txt')\n",
    "\n",
    "#     타이틀과 소제목을 모두 합침\n",
    "    for tit, wor in zip(titles, words):\n",
    "        kh_word.append(tit.text)\n",
    "        kh_word.append(wor.text)\n"
   ]
  },
  {
   "cell_type": "code",
   "execution_count": 58,
   "metadata": {},
   "outputs": [
    {
     "data": {
      "text/plain": [
       "198"
      ]
     },
     "execution_count": 58,
     "metadata": {},
     "output_type": "execute_result"
    }
   ],
   "source": [
    "# 경향신문 크롤링 데이터\n",
    "len(kh_word)"
   ]
  },
  {
   "cell_type": "markdown",
   "metadata": {},
   "source": [
    "## 동아일보 크롤링"
   ]
  },
  {
   "cell_type": "code",
   "execution_count": 78,
   "metadata": {},
   "outputs": [
    {
     "name": "stderr",
     "output_type": "stream",
     "text": [
      "100%|█████████████████████████████████████████████████████████| 1051/1051 [04:03<00:00,  4.32it/s]\n"
     ]
    }
   ],
   "source": [
    "# 동아일보 '천안문 검색 결과' URL\n",
    "url = 'https://www.donga.com/news/search?p={}&query=%EC%B2%9C%EC%95%88%EB%AC%B8&check_news=1&more=1&sorting=1&search_date=1&v1=&v2=&range=1'\n",
    "\n",
    "# 가져올 텍스트 공간 초기화\n",
    "donga_word = []\n",
    "\n",
    "# 동아일보 1~1051페이지까지 크롤링 (최대 10페이지까지 존재)\n",
    "for count in tqdm(range(1,1052)):\n",
    "#     1~1051페이지까지 html을 가져옴\n",
    "    response = requests.get(url.format(count))\n",
    "    html = response.text\n",
    "    soup = BeautifulSoup(html, 'html.parser')\n",
    "\n",
    "#     title 부분\n",
    "    titles = soup.select('.searchList > .t > .tit > a')\n",
    "#     소제목 부분\n",
    "    words = soup.select('.searchList > .t > .txt > a')\n",
    "\n",
    "#     타이틀과 소제목을 모두 합침\n",
    "    for tit, wor in zip(titles, words):\n",
    "        donga_word.append(tit.text)\n",
    "        donga_word.append(wor.text)"
   ]
  },
  {
   "cell_type": "code",
   "execution_count": 81,
   "metadata": {},
   "outputs": [
    {
     "data": {
      "text/plain": [
       "39288"
      ]
     },
     "execution_count": 81,
     "metadata": {},
     "output_type": "execute_result"
    }
   ],
   "source": [
    "len(word)"
   ]
  },
  {
   "cell_type": "code",
   "execution_count": null,
   "metadata": {},
   "outputs": [],
   "source": []
  }
 ],
 "metadata": {
  "kernelspec": {
   "display_name": "Python 3",
   "language": "python",
   "name": "python3"
  },
  "language_info": {
   "codemirror_mode": {
    "name": "ipython",
    "version": 3
   },
   "file_extension": ".py",
   "mimetype": "text/x-python",
   "name": "python",
   "nbconvert_exporter": "python",
   "pygments_lexer": "ipython3",
   "version": "3.6.12"
  }
 },
 "nbformat": 4,
 "nbformat_minor": 4
}
