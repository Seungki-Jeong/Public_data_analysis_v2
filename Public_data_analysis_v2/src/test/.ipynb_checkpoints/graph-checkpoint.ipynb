{
 "cells": [
  {
   "cell_type": "code",
   "execution_count": 1,
   "metadata": {},
   "outputs": [
    {
     "name": "stdout",
     "output_type": "stream",
     "text": [
      "['C:\\\\Users\\\\fex53\\\\.conda\\\\envs\\\\pt\\\\python36.zip', 'C:\\\\Users\\\\fex53\\\\.conda\\\\envs\\\\pt\\\\DLLs', 'C:\\\\Users\\\\fex53\\\\.conda\\\\envs\\\\pt\\\\lib', 'C:\\\\Users\\\\fex53\\\\.conda\\\\envs\\\\pt', '', 'C:\\\\Users\\\\fex53\\\\.conda\\\\envs\\\\pt\\\\lib\\\\site-packages', 'C:\\\\Users\\\\fex53\\\\.conda\\\\envs\\\\pt\\\\lib\\\\site-packages\\\\win32', 'C:\\\\Users\\\\fex53\\\\.conda\\\\envs\\\\pt\\\\lib\\\\site-packages\\\\win32\\\\lib', 'C:\\\\Users\\\\fex53\\\\.conda\\\\envs\\\\pt\\\\lib\\\\site-packages\\\\Pythonwin', 'C:\\\\Users\\\\fex53\\\\.conda\\\\envs\\\\pt\\\\lib\\\\site-packages\\\\IPython\\\\extensions', 'C:\\\\Users\\\\fex53\\\\.ipython', 'D:\\\\workspace\\\\Public_data_analysis_v2\\\\Public_data_analysis_v2\\\\src\\\\module']\n"
     ]
    }
   ],
   "source": [
    "import sys\n",
    "sys.path.append('D:\\workspace\\Public_data_analysis_v2\\Public_data_analysis_v2\\src\\module')\n",
    "import Crawling as cr\n",
    "\n",
    "print(sys.path)"
   ]
  },
  {
   "cell_type": "code",
   "execution_count": 7,
   "metadata": {},
   "outputs": [],
   "source": [
    "cr.kh_open()\n",
    "cr.donga_open()\n",
    "cr.hani_open()\n",
    "cr.chosun_open()"
   ]
  },
  {
   "cell_type": "code",
   "execution_count": 4,
   "metadata": {},
   "outputs": [],
   "source": [
    "import pandas as pd\n",
    "import re\n",
    "import os"
   ]
  },
  {
   "cell_type": "code",
   "execution_count": 6,
   "metadata": {},
   "outputs": [
    {
     "name": "stderr",
     "output_type": "stream",
     "text": [
      "100%|██████████████████████████████████████████████████████████████████████████████████| 10/10 [00:00<00:00, 15.17it/s]\n"
     ]
    }
   ],
   "source": [
    "cr.kh()"
   ]
  },
  {
   "cell_type": "code",
   "execution_count": 8,
   "metadata": {},
   "outputs": [
    {
     "data": {
      "text/plain": [
       "[]"
      ]
     },
     "execution_count": 8,
     "metadata": {},
     "output_type": "execute_result"
    }
   ],
   "source": [
    "cr.kh_text"
   ]
  },
  {
   "cell_type": "code",
   "execution_count": 31,
   "metadata": {},
   "outputs": [
    {
     "data": {
      "text/plain": [
       "'[기타뉴스][오래 전 ‘이날] 월일 보편성잃은주장에 서방 맹비난 일본의 대소·중 관계“손익계산” '"
      ]
     },
     "execution_count": 31,
     "metadata": {},
     "output_type": "execute_result"
    }
   ],
   "source": [
    "re.sub(r'[[]\"]', ' ', cr.kh_text[2])\n",
    "# cr.kh_text[2]"
   ]
  },
  {
   "cell_type": "code",
   "execution_count": 16,
   "metadata": {},
   "outputs": [],
   "source": [
    "with open('D:/workspace/Public_data_analysis_v2/Public_data_analysis_v2/src/data/kh.txt', mode='r',encoding='utf-8') as file:\n",
    "    kh_text = file.readlines()\n",
    "    for w in kh_text:\n",
    "        w = w.replace('\\n', ' ', True)"
   ]
  },
  {
   "cell_type": "code",
   "execution_count": 35,
   "metadata": {},
   "outputs": [],
   "source": [
    "for i, w in enumerate(kh_text):\n",
    "    kh_text[i] = w.replace('\\n', ' ')"
   ]
  },
  {
   "cell_type": "code",
   "execution_count": 36,
   "metadata": {},
   "outputs": [
    {
     "data": {
      "text/plain": [
       "'\"틱톡 모기업 바이트댄스, 인도네시아에서 중국 비판 기사 검열\" '"
      ]
     },
     "execution_count": 36,
     "metadata": {},
     "output_type": "execute_result"
    }
   ],
   "source": [
    "kh_text[0]"
   ]
  },
  {
   "cell_type": "code",
   "execution_count": 20,
   "metadata": {},
   "outputs": [],
   "source": [
    "raw = cr.kh_text"
   ]
  },
  {
   "cell_type": "code",
   "execution_count": 36,
   "metadata": {},
   "outputs": [
    {
     "data": {
      "text/plain": [
       "'\"틱톡 모기업 바이트댄스, 인도네시아에서 중국 비판 기사 검열\"\\n'"
      ]
     },
     "execution_count": 36,
     "metadata": {},
     "output_type": "execute_result"
    }
   ],
   "source": [
    "raw[0]"
   ]
  },
  {
   "cell_type": "code",
   "execution_count": 37,
   "metadata": {},
   "outputs": [
    {
     "data": {
      "text/plain": [
       "'\"틱톡 모기업 바이트댄스, 인도네시아에서 중국 비판 기사 검열\" '"
      ]
     },
     "execution_count": 37,
     "metadata": {},
     "output_type": "execute_result"
    }
   ],
   "source": [
    "raw[0].replace('\\n', ' ')"
   ]
  },
  {
   "cell_type": "code",
   "execution_count": 12,
   "metadata": {},
   "outputs": [
    {
     "data": {
      "text/html": [
       "<div>\n",
       "<style scoped>\n",
       "    .dataframe tbody tr th:only-of-type {\n",
       "        vertical-align: middle;\n",
       "    }\n",
       "\n",
       "    .dataframe tbody tr th {\n",
       "        vertical-align: top;\n",
       "    }\n",
       "\n",
       "    .dataframe thead th {\n",
       "        text-align: right;\n",
       "    }\n",
       "</style>\n",
       "<table border=\"1\" class=\"dataframe\">\n",
       "  <thead>\n",
       "    <tr style=\"text-align: right;\">\n",
       "      <th></th>\n",
       "      <th>문서</th>\n",
       "    </tr>\n",
       "  </thead>\n",
       "  <tbody>\n",
       "    <tr>\n",
       "      <th>0</th>\n",
       "      <td>[\"틱톡 모기업 바이트댄스, 인도네시아에서 중국 비판 기사 검열\"\\n, .... 이...</td>\n",
       "    </tr>\n",
       "    <tr>\n",
       "      <th>1</th>\n",
       "      <td>[]</td>\n",
       "    </tr>\n",
       "    <tr>\n",
       "      <th>2</th>\n",
       "      <td>[누가 주윤발조차 침묵하게 했는가\\n, \\n, \\t\\t\\t\\t\\t\\t\\t1988년 ...</td>\n",
       "    </tr>\n",
       "    <tr>\n",
       "      <th>3</th>\n",
       "      <td>[미국의 새로운 중국 분열 전략은 ‘핵심이익’ 때리기?\\n, 특히 두 사람은 지난 ...</td>\n",
       "    </tr>\n",
       "  </tbody>\n",
       "</table>\n",
       "</div>"
      ],
      "text/plain": [
       "                                                  문서\n",
       "0  [\"틱톡 모기업 바이트댄스, 인도네시아에서 중국 비판 기사 검열\"\\n, .... 이...\n",
       "1                                                 []\n",
       "2  [누가 주윤발조차 침묵하게 했는가\\n, \\n, \\t\\t\\t\\t\\t\\t\\t1988년 ...\n",
       "3  [미국의 새로운 중국 분열 전략은 ‘핵심이익’ 때리기?\\n, 특히 두 사람은 지난 ..."
      ]
     },
     "execution_count": 12,
     "metadata": {},
     "output_type": "execute_result"
    }
   ],
   "source": [
    "pd.DataFrame({'문서': [cr.kh_text, cr.donga_text, cr.hani_text, cr.chosun_text]})"
   ]
  },
  {
   "cell_type": "code",
   "execution_count": null,
   "metadata": {},
   "outputs": [],
   "source": []
  }
 ],
 "metadata": {
  "kernelspec": {
   "display_name": "Python 3",
   "language": "python",
   "name": "python3"
  },
  "language_info": {
   "codemirror_mode": {
    "name": "ipython",
    "version": 3
   },
   "file_extension": ".py",
   "mimetype": "text/x-python",
   "name": "python",
   "nbconvert_exporter": "python",
   "pygments_lexer": "ipython3",
   "version": "3.6.12"
  }
 },
 "nbformat": 4,
 "nbformat_minor": 4
}
